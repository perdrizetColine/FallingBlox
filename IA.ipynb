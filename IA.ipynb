{
  "cells": [
    {
      "cell_type": "markdown",
      "metadata": {
        "id": "TD7ghH26SUI6"
      },
      "source": [
        "<b>Partie IA</b>"
      ]
    },
    {
      "cell_type": "markdown",
      "metadata": {
        "id": "UPFl_uTeSUI8"
      },
      "source": [
        "Imports"
      ]
    },
    {
      "cell_type": "code",
      "source": [
        "!pip install catboost"
      ],
      "metadata": {
        "id": "Vmj8z6kySbiR",
        "outputId": "a2376a0b-4429-4148-a41e-52bddda558be",
        "colab": {
          "base_uri": "https://localhost:8080/"
        }
      },
      "execution_count": 2,
      "outputs": [
        {
          "output_type": "stream",
          "name": "stdout",
          "text": [
            "Collecting catboost\n",
            "  Downloading catboost-1.2.7-cp310-cp310-manylinux2014_x86_64.whl.metadata (1.2 kB)\n",
            "Requirement already satisfied: graphviz in /usr/local/lib/python3.10/dist-packages (from catboost) (0.20.3)\n",
            "Requirement already satisfied: matplotlib in /usr/local/lib/python3.10/dist-packages (from catboost) (3.8.0)\n",
            "Requirement already satisfied: numpy<2.0,>=1.16.0 in /usr/local/lib/python3.10/dist-packages (from catboost) (1.26.4)\n",
            "Requirement already satisfied: pandas>=0.24 in /usr/local/lib/python3.10/dist-packages (from catboost) (2.2.2)\n",
            "Requirement already satisfied: scipy in /usr/local/lib/python3.10/dist-packages (from catboost) (1.13.1)\n",
            "Requirement already satisfied: plotly in /usr/local/lib/python3.10/dist-packages (from catboost) (5.24.1)\n",
            "Requirement already satisfied: six in /usr/local/lib/python3.10/dist-packages (from catboost) (1.16.0)\n",
            "Requirement already satisfied: python-dateutil>=2.8.2 in /usr/local/lib/python3.10/dist-packages (from pandas>=0.24->catboost) (2.8.2)\n",
            "Requirement already satisfied: pytz>=2020.1 in /usr/local/lib/python3.10/dist-packages (from pandas>=0.24->catboost) (2024.2)\n",
            "Requirement already satisfied: tzdata>=2022.7 in /usr/local/lib/python3.10/dist-packages (from pandas>=0.24->catboost) (2024.2)\n",
            "Requirement already satisfied: contourpy>=1.0.1 in /usr/local/lib/python3.10/dist-packages (from matplotlib->catboost) (1.3.1)\n",
            "Requirement already satisfied: cycler>=0.10 in /usr/local/lib/python3.10/dist-packages (from matplotlib->catboost) (0.12.1)\n",
            "Requirement already satisfied: fonttools>=4.22.0 in /usr/local/lib/python3.10/dist-packages (from matplotlib->catboost) (4.55.0)\n",
            "Requirement already satisfied: kiwisolver>=1.0.1 in /usr/local/lib/python3.10/dist-packages (from matplotlib->catboost) (1.4.7)\n",
            "Requirement already satisfied: packaging>=20.0 in /usr/local/lib/python3.10/dist-packages (from matplotlib->catboost) (24.2)\n",
            "Requirement already satisfied: pillow>=6.2.0 in /usr/local/lib/python3.10/dist-packages (from matplotlib->catboost) (11.0.0)\n",
            "Requirement already satisfied: pyparsing>=2.3.1 in /usr/local/lib/python3.10/dist-packages (from matplotlib->catboost) (3.2.0)\n",
            "Requirement already satisfied: tenacity>=6.2.0 in /usr/local/lib/python3.10/dist-packages (from plotly->catboost) (9.0.0)\n",
            "Downloading catboost-1.2.7-cp310-cp310-manylinux2014_x86_64.whl (98.7 MB)\n",
            "\u001b[2K   \u001b[90m━━━━━━━━━━━━━━━━━━━━━━━━━━━━━━━━━━━━━━━━\u001b[0m \u001b[32m98.7/98.7 MB\u001b[0m \u001b[31m6.9 MB/s\u001b[0m eta \u001b[36m0:00:00\u001b[0m\n",
            "\u001b[?25hInstalling collected packages: catboost\n",
            "Successfully installed catboost-1.2.7\n"
          ]
        }
      ]
    },
    {
      "cell_type": "code",
      "execution_count": 3,
      "metadata": {
        "id": "9E___U2uSUI8"
      },
      "outputs": [],
      "source": [
        "# Importation des bibliothèques nécessaires\n",
        "import pandas as pd  # Pour manipuler les données sous forme de DataFrame\n",
        "import warnings  # Pour gérer les avertissements\n",
        "\n",
        "# Importation des modules de Scikit-learn pour la transformation des colonnes, pipelines, modèles et évaluation\n",
        "from sklearn.compose import ColumnTransformer  # Pour appliquer des transformations différentes sur les colonnes\n",
        "from sklearn.pipeline import Pipeline  # Pour créer des pipelines de transformations et de modèles\n",
        "from sklearn.preprocessing import StandardScaler  # Pour le prétraitement des données\n",
        "from sklearn.model_selection import train_test_split  # Pour la division des données et la recherche des hyperparamètres\n",
        "from sklearn.metrics import accuracy_score, classification_report  # Pour évaluer les performances du modèle\n",
        "from catboost import CatBoostClassifier  # Classifieur CatBoost\n",
        "\n",
        "# Ignorer certains avertissements\n",
        "warnings.filterwarnings(\"ignore\", category=FutureWarning)\n",
        "warnings.filterwarnings('ignore')\n",
        "\n",
        "import numpy as np\n",
        "import pandas as pd\n",
        "from sklearn.ensemble import RandomForestClassifier\n",
        "from sklearn.model_selection import train_test_split\n",
        "import sklearn\n",
        "\n",
        "import torch\n",
        "import torch.nn as nn\n",
        "import torch.optim as optim"
      ]
    },
    {
      "cell_type": "code",
      "source": [
        "from google.colab import drive\n",
        "drive.mount('/content/drive')"
      ],
      "metadata": {
        "id": "8PVZPPIGS5kW",
        "outputId": "1c427898-8ff6-4f80-b66d-55df5a78f7a0",
        "colab": {
          "base_uri": "https://localhost:8080/"
        }
      },
      "execution_count": 5,
      "outputs": [
        {
          "output_type": "stream",
          "name": "stdout",
          "text": [
            "Mounted at /content/drive\n"
          ]
        }
      ]
    },
    {
      "cell_type": "code",
      "execution_count": 15,
      "metadata": {
        "id": "thB9qMDRSUI9"
      },
      "outputs": [],
      "source": [
        "file_path = '/content/drive/MyDrive/fichiersPFE/creditcard_2023.csv'\n",
        "df_tr = pd.read_csv(file_path)"
      ]
    },
    {
      "cell_type": "markdown",
      "metadata": {
        "id": "Eeux5l0NSUI-"
      },
      "source": [
        "L'étude des variables sur la partie Big Data nous a permis de voir que certaines corrélations de variables sont plus importantes que d'autres dans le dataset pour les transactions frauduleuse. Car nous ne pouvont pas être 100% sûrs de pouvoir enelever celles qui n'ont pas l'air importantes, nous les gardons."
      ]
    },
    {
      "cell_type": "markdown",
      "metadata": {
        "id": "TOV2AgylSUI-"
      },
      "source": [
        "On teste plusieurs méthodes d'intelligence artificielle pour en trouver une qui est à la fois rapide et efficace."
      ]
    },
    {
      "cell_type": "markdown",
      "metadata": {
        "id": "s6RpoULOSUI-"
      },
      "source": [
        "*Apprentissage supervisé*"
      ]
    },
    {
      "cell_type": "code",
      "execution_count": 16,
      "metadata": {
        "id": "CjZbHoo3SUI-"
      },
      "outputs": [],
      "source": [
        "# Séparation des données en caractéristiques (X) et cible (y)\n",
        "X = df_tr.drop('Class', axis=1)\n",
        "y = df_tr['Class']"
      ]
    },
    {
      "cell_type": "code",
      "execution_count": 17,
      "metadata": {
        "id": "KRmhKAdnSUI_"
      },
      "outputs": [],
      "source": [
        "# Définir les caractéristiques numériques (exclure les colonnes catégorielles)\n",
        "numeric_features = X.select_dtypes(include=['int64', 'float64']).columns.tolist()"
      ]
    },
    {
      "cell_type": "code",
      "execution_count": 18,
      "metadata": {
        "id": "J8Cqr8BdSUJA"
      },
      "outputs": [],
      "source": [
        "# Définir le pipeline de transformation pour les colonnes numériques\n",
        "numeric_transformer = Pipeline(steps=[\n",
        "    ('scaler', StandardScaler())])"
      ]
    },
    {
      "cell_type": "markdown",
      "metadata": {
        "id": "SNDAZKq5SUJA"
      },
      "source": [
        "StandardScaler() est un transformateur qui normalise les données en les centrant sur la moyenne 0 et en les réduisant à une échelle unitaire (écart-type 1). Cela est souvent nécessaire avant de passer à des algorithmes d'apprentissage automatique, car certains modèles sont sensibles à l'échelle des données (par exemple, les modèles basés sur la distance comme la régression logistique, SVM, etc.)."
      ]
    },
    {
      "cell_type": "code",
      "execution_count": 19,
      "metadata": {
        "id": "o85YZYn9SUJC"
      },
      "outputs": [],
      "source": [
        "# Définir la transformation par colonnes\n",
        "preprocessor = ColumnTransformer(\n",
        "    transformers=[\n",
        "        ('num', numeric_transformer, numeric_features)])"
      ]
    },
    {
      "cell_type": "code",
      "execution_count": 20,
      "metadata": {
        "id": "osKLsEhaSUJC"
      },
      "outputs": [],
      "source": [
        "# Définir le modèle\n",
        "model = Pipeline(steps=[('preprocessor', preprocessor),\n",
        "                         ('classifier', CatBoostClassifier(verbose=False))])"
      ]
    },
    {
      "cell_type": "code",
      "execution_count": 21,
      "metadata": {
        "id": "A4OB8E4HSUJC"
      },
      "outputs": [],
      "source": [
        "# Diviser les données en ensembles d'entraînement et de test\n",
        "X_train, X_test, y_train, y_test =train_test_split(X, y, test_size=0.2, random_state=42)\n"
      ]
    },
    {
      "cell_type": "code",
      "execution_count": null,
      "metadata": {
        "id": "ZLmDBKuESUJC"
      },
      "outputs": [],
      "source": [
        "# Entraîner le modèle\n",
        "model.fit(X_train, y_train)\n",
        "\n"
      ]
    },
    {
      "cell_type": "code",
      "execution_count": null,
      "metadata": {
        "id": "m_CvOzYCSUJD"
      },
      "outputs": [],
      "source": [
        "# Prédire sur l'ensemble de test\n",
        "y_pred = model.predict(X_test)"
      ]
    },
    {
      "cell_type": "code",
      "execution_count": null,
      "metadata": {
        "id": "wsMfK3_2SUJD"
      },
      "outputs": [],
      "source": [
        "# Calculer l'exactitude\n",
        "accuracy = accuracy_score(y_test, y_pred)\n",
        "print(\"Accuracy:\", accuracy)"
      ]
    },
    {
      "cell_type": "code",
      "execution_count": null,
      "metadata": {
        "id": "aKfuMF0QSUJD"
      },
      "outputs": [],
      "source": [
        "# Afficher le rapport de classification avec couleurs et en-tête\n",
        "from colorama import Fore, Back, Style\n",
        "print(\"\\n\" + Back.BLUE + Fore.WHITE + \"Classification Report\" + Style.RESET_ALL)\n",
        "report = classification_report(y_test, y_pred, output_dict=True)\n",
        "for key, value in report.items():\n",
        "    if key in ['0', '1']:\n",
        "        color = Fore.GREEN if value['precision'] > 0.8 else Fore.RED\n",
        "        print(f\"Class {key}:\")\n",
        "        print(f\"  Precision: {color}{value['precision']:.2f}{Style.RESET_ALL}\")\n",
        "        color = Fore.GREEN if value['recall'] > 0.8 else Fore.RED\n",
        "        print(f\"  Recall: {color}{value['recall']:.2f}{Style.RESET_ALL}\")\n",
        "        color = Fore.GREEN if value['f1-score'] > 0.8 else Fore.RED\n",
        "        print(f\"  F1-score: {color}{value['f1-score']:.2f}{Style.RESET_ALL}\")\n",
        "        print(f\"  Support: {value['support']}\")\n",
        "    else:\n",
        "        print(key + \":\", value)"
      ]
    },
    {
      "cell_type": "markdown",
      "source": [
        "On va maintenant afficher le training."
      ],
      "metadata": {
        "id": "IkKjgZxBVw16"
      }
    },
    {
      "cell_type": "markdown",
      "metadata": {
        "id": "Y4GCu01dSUJD"
      },
      "source": [
        "*Forêt aléatoire*"
      ]
    },
    {
      "cell_type": "markdown",
      "metadata": {
        "id": "9zr-jlxTSUJD"
      },
      "source": [
        "On va donc séparer nos données en un échantillon d’apprentissage pour apprendre notre modèle et un échantillon test pour tester l’efficacité de la forêt aléatoire."
      ]
    },
    {
      "cell_type": "code",
      "execution_count": null,
      "metadata": {
        "id": "nhUXBkhxSUJD"
      },
      "outputs": [],
      "source": [
        "x_train, x_test, y_train, y_test  = train_test_split(X,\n",
        "                                                     y,\n",
        "                                                     test_size=0.25,\n",
        "                                                     random_state=42)"
      ]
    },
    {
      "cell_type": "markdown",
      "metadata": {
        "id": "hYq2ovW2SUJD"
      },
      "source": [
        "On utilise un échantillon de test représentant 25% des données."
      ]
    },
    {
      "cell_type": "markdown",
      "metadata": {
        "id": "6EdihoHXSUJD"
      },
      "source": [
        "On va utiliser scikit-learn pour construire notre forêt aléatoire, on utilise donc la classe RandomForestClassifier de scikit-learn et on crée un objet à partir de cette classe. C’est à ce moment que nous allons définir ce qu’on appelle les hyperparamètres du modèle. Il s’agit de paramètres tels que le nombre d’arbres dans la forêt qui doivent être définis en amont de l’apprentissage."
      ]
    },
    {
      "cell_type": "code",
      "execution_count": null,
      "metadata": {
        "id": "uxFqhSOySUJE"
      },
      "outputs": [],
      "source": [
        "modele_rf = RandomForestClassifier(\n",
        "     n_estimators=100,\n",
        "     criterion='gini',\n",
        "     max_depth=None,\n",
        "     min_samples_split=2,\n",
        "     min_samples_leaf=1,\n",
        "     min_weight_fraction_leaf=0.0,\n",
        "     max_features='sqrt',\n",
        "     max_leaf_nodes=None,\n",
        "     min_impurity_decrease=0.0,\n",
        "     bootstrap=True,\n",
        "     oob_score=False,\n",
        "     n_jobs=None,\n",
        "     random_state=None,\n",
        "     verbose=0,\n",
        "     warm_start=False,\n",
        "     class_weight=None,\n",
        "     ccp_alpha=0.0,\n",
        "     max_samples=None,)"
      ]
    },
    {
      "cell_type": "markdown",
      "metadata": {
        "id": "5ZVR4blYSUJE"
      },
      "source": [
        "Tous ces hyperparamètres ont des valeurs par défaut que nous modifions rarement, mais il est utile de les comprendre. En voici un description rapide :\n",
        "\n",
        "n_estimators : il s’agit du nombre d’arbres dans la forêt\n",
        "criterion : il s’agit du critère utilisé pour construire les arbres et séparer les branches des arbres\n",
        "\n",
        "max_depth : il s’agit de la profondeur maximale des arbres utilisés (le nombre de niveaux dans l’arbre de décision)\n",
        "\n",
        "min_sample_split : il s’agit du nombre d’échantillons minimal dans une feuille pour refaire une séparation\n",
        "\n",
        "min_samples_leaf : il s’agit du nombre d’échantillons minimal pour créer une feuille\n",
        "\n",
        "min_weight_fraction_leaf : il s’agit de la fraction du nombre total d’échantillon minimal pour créer une feuille\n",
        "\n",
        "max_features : il s’agit du nombre de colonnes sélectionnées pour chaque arbre (par défaut on prend la racine carré du nombre de colonnes)\n",
        "\n",
        "max_leaf_nodes : il s’agit du nombre maximal de feuilles\n",
        "\n",
        "min_impurity_decrease : il s’agit de la baisse minimale du critère d’impureté pour faire une séparation\n",
        "\n",
        "bootstrap : paramètre pour utiliser du bootstrap, si il est à False, le même échantillon est pris pour chaque arbre\n",
        "\n",
        "n_jobs ; nombre de traitements à effectuer en parallèle\n",
        "random_state : graine aléatoire\n",
        "\n",
        "warm_start : ceci permet de repartir du résultat du dernier apprentissage pour faire l’apprentissage\n",
        "\n",
        "class_weights : il s’agit des poids associés à chaque classe si cela a un sens\n",
        "\n",
        "max_samples : si vous voulez réduire le nombre d’observations dans vos échantillons bootstrap\n"
      ]
    },
    {
      "cell_type": "markdown",
      "metadata": {
        "id": "n9mHTQcISUJE"
      },
      "source": [
        "Nous avons donc construit un objet forêt aléatoire, nous devons maintenant effectuer l’apprentissage :"
      ]
    },
    {
      "cell_type": "code",
      "execution_count": null,
      "metadata": {
        "id": "ygW6FBoMSUJE",
        "outputId": "a71de7cf-879a-4de3-dbca-e0d0d66006de"
      },
      "outputs": [
        {
          "data": {
            "text/html": [
              "<style>#sk-container-id-4 {\n",
              "  /* Definition of color scheme common for light and dark mode */\n",
              "  --sklearn-color-text: black;\n",
              "  --sklearn-color-line: gray;\n",
              "  /* Definition of color scheme for unfitted estimators */\n",
              "  --sklearn-color-unfitted-level-0: #fff5e6;\n",
              "  --sklearn-color-unfitted-level-1: #f6e4d2;\n",
              "  --sklearn-color-unfitted-level-2: #ffe0b3;\n",
              "  --sklearn-color-unfitted-level-3: chocolate;\n",
              "  /* Definition of color scheme for fitted estimators */\n",
              "  --sklearn-color-fitted-level-0: #f0f8ff;\n",
              "  --sklearn-color-fitted-level-1: #d4ebff;\n",
              "  --sklearn-color-fitted-level-2: #b3dbfd;\n",
              "  --sklearn-color-fitted-level-3: cornflowerblue;\n",
              "\n",
              "  /* Specific color for light theme */\n",
              "  --sklearn-color-text-on-default-background: var(--sg-text-color, var(--theme-code-foreground, var(--jp-content-font-color1, black)));\n",
              "  --sklearn-color-background: var(--sg-background-color, var(--theme-background, var(--jp-layout-color0, white)));\n",
              "  --sklearn-color-border-box: var(--sg-text-color, var(--theme-code-foreground, var(--jp-content-font-color1, black)));\n",
              "  --sklearn-color-icon: #696969;\n",
              "\n",
              "  @media (prefers-color-scheme: dark) {\n",
              "    /* Redefinition of color scheme for dark theme */\n",
              "    --sklearn-color-text-on-default-background: var(--sg-text-color, var(--theme-code-foreground, var(--jp-content-font-color1, white)));\n",
              "    --sklearn-color-background: var(--sg-background-color, var(--theme-background, var(--jp-layout-color0, #111)));\n",
              "    --sklearn-color-border-box: var(--sg-text-color, var(--theme-code-foreground, var(--jp-content-font-color1, white)));\n",
              "    --sklearn-color-icon: #878787;\n",
              "  }\n",
              "}\n",
              "\n",
              "#sk-container-id-4 {\n",
              "  color: var(--sklearn-color-text);\n",
              "}\n",
              "\n",
              "#sk-container-id-4 pre {\n",
              "  padding: 0;\n",
              "}\n",
              "\n",
              "#sk-container-id-4 input.sk-hidden--visually {\n",
              "  border: 0;\n",
              "  clip: rect(1px 1px 1px 1px);\n",
              "  clip: rect(1px, 1px, 1px, 1px);\n",
              "  height: 1px;\n",
              "  margin: -1px;\n",
              "  overflow: hidden;\n",
              "  padding: 0;\n",
              "  position: absolute;\n",
              "  width: 1px;\n",
              "}\n",
              "\n",
              "#sk-container-id-4 div.sk-dashed-wrapped {\n",
              "  border: 1px dashed var(--sklearn-color-line);\n",
              "  margin: 0 0.4em 0.5em 0.4em;\n",
              "  box-sizing: border-box;\n",
              "  padding-bottom: 0.4em;\n",
              "  background-color: var(--sklearn-color-background);\n",
              "}\n",
              "\n",
              "#sk-container-id-4 div.sk-container {\n",
              "  /* jupyter's `normalize.less` sets `[hidden] { display: none; }`\n",
              "     but bootstrap.min.css set `[hidden] { display: none !important; }`\n",
              "     so we also need the `!important` here to be able to override the\n",
              "     default hidden behavior on the sphinx rendered scikit-learn.org.\n",
              "     See: https://github.com/scikit-learn/scikit-learn/issues/21755 */\n",
              "  display: inline-block !important;\n",
              "  position: relative;\n",
              "}\n",
              "\n",
              "#sk-container-id-4 div.sk-text-repr-fallback {\n",
              "  display: none;\n",
              "}\n",
              "\n",
              "div.sk-parallel-item,\n",
              "div.sk-serial,\n",
              "div.sk-item {\n",
              "  /* draw centered vertical line to link estimators */\n",
              "  background-image: linear-gradient(var(--sklearn-color-text-on-default-background), var(--sklearn-color-text-on-default-background));\n",
              "  background-size: 2px 100%;\n",
              "  background-repeat: no-repeat;\n",
              "  background-position: center center;\n",
              "}\n",
              "\n",
              "/* Parallel-specific style estimator block */\n",
              "\n",
              "#sk-container-id-4 div.sk-parallel-item::after {\n",
              "  content: \"\";\n",
              "  width: 100%;\n",
              "  border-bottom: 2px solid var(--sklearn-color-text-on-default-background);\n",
              "  flex-grow: 1;\n",
              "}\n",
              "\n",
              "#sk-container-id-4 div.sk-parallel {\n",
              "  display: flex;\n",
              "  align-items: stretch;\n",
              "  justify-content: center;\n",
              "  background-color: var(--sklearn-color-background);\n",
              "  position: relative;\n",
              "}\n",
              "\n",
              "#sk-container-id-4 div.sk-parallel-item {\n",
              "  display: flex;\n",
              "  flex-direction: column;\n",
              "}\n",
              "\n",
              "#sk-container-id-4 div.sk-parallel-item:first-child::after {\n",
              "  align-self: flex-end;\n",
              "  width: 50%;\n",
              "}\n",
              "\n",
              "#sk-container-id-4 div.sk-parallel-item:last-child::after {\n",
              "  align-self: flex-start;\n",
              "  width: 50%;\n",
              "}\n",
              "\n",
              "#sk-container-id-4 div.sk-parallel-item:only-child::after {\n",
              "  width: 0;\n",
              "}\n",
              "\n",
              "/* Serial-specific style estimator block */\n",
              "\n",
              "#sk-container-id-4 div.sk-serial {\n",
              "  display: flex;\n",
              "  flex-direction: column;\n",
              "  align-items: center;\n",
              "  background-color: var(--sklearn-color-background);\n",
              "  padding-right: 1em;\n",
              "  padding-left: 1em;\n",
              "}\n",
              "\n",
              "\n",
              "/* Toggleable style: style used for estimator/Pipeline/ColumnTransformer box that is\n",
              "clickable and can be expanded/collapsed.\n",
              "- Pipeline and ColumnTransformer use this feature and define the default style\n",
              "- Estimators will overwrite some part of the style using the `sk-estimator` class\n",
              "*/\n",
              "\n",
              "/* Pipeline and ColumnTransformer style (default) */\n",
              "\n",
              "#sk-container-id-4 div.sk-toggleable {\n",
              "  /* Default theme specific background. It is overwritten whether we have a\n",
              "  specific estimator or a Pipeline/ColumnTransformer */\n",
              "  background-color: var(--sklearn-color-background);\n",
              "}\n",
              "\n",
              "/* Toggleable label */\n",
              "#sk-container-id-4 label.sk-toggleable__label {\n",
              "  cursor: pointer;\n",
              "  display: block;\n",
              "  width: 100%;\n",
              "  margin-bottom: 0;\n",
              "  padding: 0.5em;\n",
              "  box-sizing: border-box;\n",
              "  text-align: center;\n",
              "}\n",
              "\n",
              "#sk-container-id-4 label.sk-toggleable__label-arrow:before {\n",
              "  /* Arrow on the left of the label */\n",
              "  content: \"▸\";\n",
              "  float: left;\n",
              "  margin-right: 0.25em;\n",
              "  color: var(--sklearn-color-icon);\n",
              "}\n",
              "\n",
              "#sk-container-id-4 label.sk-toggleable__label-arrow:hover:before {\n",
              "  color: var(--sklearn-color-text);\n",
              "}\n",
              "\n",
              "/* Toggleable content - dropdown */\n",
              "\n",
              "#sk-container-id-4 div.sk-toggleable__content {\n",
              "  max-height: 0;\n",
              "  max-width: 0;\n",
              "  overflow: hidden;\n",
              "  text-align: left;\n",
              "  /* unfitted */\n",
              "  background-color: var(--sklearn-color-unfitted-level-0);\n",
              "}\n",
              "\n",
              "#sk-container-id-4 div.sk-toggleable__content.fitted {\n",
              "  /* fitted */\n",
              "  background-color: var(--sklearn-color-fitted-level-0);\n",
              "}\n",
              "\n",
              "#sk-container-id-4 div.sk-toggleable__content pre {\n",
              "  margin: 0.2em;\n",
              "  border-radius: 0.25em;\n",
              "  color: var(--sklearn-color-text);\n",
              "  /* unfitted */\n",
              "  background-color: var(--sklearn-color-unfitted-level-0);\n",
              "}\n",
              "\n",
              "#sk-container-id-4 div.sk-toggleable__content.fitted pre {\n",
              "  /* unfitted */\n",
              "  background-color: var(--sklearn-color-fitted-level-0);\n",
              "}\n",
              "\n",
              "#sk-container-id-4 input.sk-toggleable__control:checked~div.sk-toggleable__content {\n",
              "  /* Expand drop-down */\n",
              "  max-height: 200px;\n",
              "  max-width: 100%;\n",
              "  overflow: auto;\n",
              "}\n",
              "\n",
              "#sk-container-id-4 input.sk-toggleable__control:checked~label.sk-toggleable__label-arrow:before {\n",
              "  content: \"▾\";\n",
              "}\n",
              "\n",
              "/* Pipeline/ColumnTransformer-specific style */\n",
              "\n",
              "#sk-container-id-4 div.sk-label input.sk-toggleable__control:checked~label.sk-toggleable__label {\n",
              "  color: var(--sklearn-color-text);\n",
              "  background-color: var(--sklearn-color-unfitted-level-2);\n",
              "}\n",
              "\n",
              "#sk-container-id-4 div.sk-label.fitted input.sk-toggleable__control:checked~label.sk-toggleable__label {\n",
              "  background-color: var(--sklearn-color-fitted-level-2);\n",
              "}\n",
              "\n",
              "/* Estimator-specific style */\n",
              "\n",
              "/* Colorize estimator box */\n",
              "#sk-container-id-4 div.sk-estimator input.sk-toggleable__control:checked~label.sk-toggleable__label {\n",
              "  /* unfitted */\n",
              "  background-color: var(--sklearn-color-unfitted-level-2);\n",
              "}\n",
              "\n",
              "#sk-container-id-4 div.sk-estimator.fitted input.sk-toggleable__control:checked~label.sk-toggleable__label {\n",
              "  /* fitted */\n",
              "  background-color: var(--sklearn-color-fitted-level-2);\n",
              "}\n",
              "\n",
              "#sk-container-id-4 div.sk-label label.sk-toggleable__label,\n",
              "#sk-container-id-4 div.sk-label label {\n",
              "  /* The background is the default theme color */\n",
              "  color: var(--sklearn-color-text-on-default-background);\n",
              "}\n",
              "\n",
              "/* On hover, darken the color of the background */\n",
              "#sk-container-id-4 div.sk-label:hover label.sk-toggleable__label {\n",
              "  color: var(--sklearn-color-text);\n",
              "  background-color: var(--sklearn-color-unfitted-level-2);\n",
              "}\n",
              "\n",
              "/* Label box, darken color on hover, fitted */\n",
              "#sk-container-id-4 div.sk-label.fitted:hover label.sk-toggleable__label.fitted {\n",
              "  color: var(--sklearn-color-text);\n",
              "  background-color: var(--sklearn-color-fitted-level-2);\n",
              "}\n",
              "\n",
              "/* Estimator label */\n",
              "\n",
              "#sk-container-id-4 div.sk-label label {\n",
              "  font-family: monospace;\n",
              "  font-weight: bold;\n",
              "  display: inline-block;\n",
              "  line-height: 1.2em;\n",
              "}\n",
              "\n",
              "#sk-container-id-4 div.sk-label-container {\n",
              "  text-align: center;\n",
              "}\n",
              "\n",
              "/* Estimator-specific */\n",
              "#sk-container-id-4 div.sk-estimator {\n",
              "  font-family: monospace;\n",
              "  border: 1px dotted var(--sklearn-color-border-box);\n",
              "  border-radius: 0.25em;\n",
              "  box-sizing: border-box;\n",
              "  margin-bottom: 0.5em;\n",
              "  /* unfitted */\n",
              "  background-color: var(--sklearn-color-unfitted-level-0);\n",
              "}\n",
              "\n",
              "#sk-container-id-4 div.sk-estimator.fitted {\n",
              "  /* fitted */\n",
              "  background-color: var(--sklearn-color-fitted-level-0);\n",
              "}\n",
              "\n",
              "/* on hover */\n",
              "#sk-container-id-4 div.sk-estimator:hover {\n",
              "  /* unfitted */\n",
              "  background-color: var(--sklearn-color-unfitted-level-2);\n",
              "}\n",
              "\n",
              "#sk-container-id-4 div.sk-estimator.fitted:hover {\n",
              "  /* fitted */\n",
              "  background-color: var(--sklearn-color-fitted-level-2);\n",
              "}\n",
              "\n",
              "/* Specification for estimator info (e.g. \"i\" and \"?\") */\n",
              "\n",
              "/* Common style for \"i\" and \"?\" */\n",
              "\n",
              ".sk-estimator-doc-link,\n",
              "a:link.sk-estimator-doc-link,\n",
              "a:visited.sk-estimator-doc-link {\n",
              "  float: right;\n",
              "  font-size: smaller;\n",
              "  line-height: 1em;\n",
              "  font-family: monospace;\n",
              "  background-color: var(--sklearn-color-background);\n",
              "  border-radius: 1em;\n",
              "  height: 1em;\n",
              "  width: 1em;\n",
              "  text-decoration: none !important;\n",
              "  margin-left: 1ex;\n",
              "  /* unfitted */\n",
              "  border: var(--sklearn-color-unfitted-level-1) 1pt solid;\n",
              "  color: var(--sklearn-color-unfitted-level-1);\n",
              "}\n",
              "\n",
              ".sk-estimator-doc-link.fitted,\n",
              "a:link.sk-estimator-doc-link.fitted,\n",
              "a:visited.sk-estimator-doc-link.fitted {\n",
              "  /* fitted */\n",
              "  border: var(--sklearn-color-fitted-level-1) 1pt solid;\n",
              "  color: var(--sklearn-color-fitted-level-1);\n",
              "}\n",
              "\n",
              "/* On hover */\n",
              "div.sk-estimator:hover .sk-estimator-doc-link:hover,\n",
              ".sk-estimator-doc-link:hover,\n",
              "div.sk-label-container:hover .sk-estimator-doc-link:hover,\n",
              ".sk-estimator-doc-link:hover {\n",
              "  /* unfitted */\n",
              "  background-color: var(--sklearn-color-unfitted-level-3);\n",
              "  color: var(--sklearn-color-background);\n",
              "  text-decoration: none;\n",
              "}\n",
              "\n",
              "div.sk-estimator.fitted:hover .sk-estimator-doc-link.fitted:hover,\n",
              ".sk-estimator-doc-link.fitted:hover,\n",
              "div.sk-label-container:hover .sk-estimator-doc-link.fitted:hover,\n",
              ".sk-estimator-doc-link.fitted:hover {\n",
              "  /* fitted */\n",
              "  background-color: var(--sklearn-color-fitted-level-3);\n",
              "  color: var(--sklearn-color-background);\n",
              "  text-decoration: none;\n",
              "}\n",
              "\n",
              "/* Span, style for the box shown on hovering the info icon */\n",
              ".sk-estimator-doc-link span {\n",
              "  display: none;\n",
              "  z-index: 9999;\n",
              "  position: relative;\n",
              "  font-weight: normal;\n",
              "  right: .2ex;\n",
              "  padding: .5ex;\n",
              "  margin: .5ex;\n",
              "  width: min-content;\n",
              "  min-width: 20ex;\n",
              "  max-width: 50ex;\n",
              "  color: var(--sklearn-color-text);\n",
              "  box-shadow: 2pt 2pt 4pt #999;\n",
              "  /* unfitted */\n",
              "  background: var(--sklearn-color-unfitted-level-0);\n",
              "  border: .5pt solid var(--sklearn-color-unfitted-level-3);\n",
              "}\n",
              "\n",
              ".sk-estimator-doc-link.fitted span {\n",
              "  /* fitted */\n",
              "  background: var(--sklearn-color-fitted-level-0);\n",
              "  border: var(--sklearn-color-fitted-level-3);\n",
              "}\n",
              "\n",
              ".sk-estimator-doc-link:hover span {\n",
              "  display: block;\n",
              "}\n",
              "\n",
              "/* \"?\"-specific style due to the `<a>` HTML tag */\n",
              "\n",
              "#sk-container-id-4 a.estimator_doc_link {\n",
              "  float: right;\n",
              "  font-size: 1rem;\n",
              "  line-height: 1em;\n",
              "  font-family: monospace;\n",
              "  background-color: var(--sklearn-color-background);\n",
              "  border-radius: 1rem;\n",
              "  height: 1rem;\n",
              "  width: 1rem;\n",
              "  text-decoration: none;\n",
              "  /* unfitted */\n",
              "  color: var(--sklearn-color-unfitted-level-1);\n",
              "  border: var(--sklearn-color-unfitted-level-1) 1pt solid;\n",
              "}\n",
              "\n",
              "#sk-container-id-4 a.estimator_doc_link.fitted {\n",
              "  /* fitted */\n",
              "  border: var(--sklearn-color-fitted-level-1) 1pt solid;\n",
              "  color: var(--sklearn-color-fitted-level-1);\n",
              "}\n",
              "\n",
              "/* On hover */\n",
              "#sk-container-id-4 a.estimator_doc_link:hover {\n",
              "  /* unfitted */\n",
              "  background-color: var(--sklearn-color-unfitted-level-3);\n",
              "  color: var(--sklearn-color-background);\n",
              "  text-decoration: none;\n",
              "}\n",
              "\n",
              "#sk-container-id-4 a.estimator_doc_link.fitted:hover {\n",
              "  /* fitted */\n",
              "  background-color: var(--sklearn-color-fitted-level-3);\n",
              "}\n",
              "</style><div id=\"sk-container-id-4\" class=\"sk-top-container\"><div class=\"sk-text-repr-fallback\"><pre>RandomForestClassifier()</pre><b>In a Jupyter environment, please rerun this cell to show the HTML representation or trust the notebook. <br />On GitHub, the HTML representation is unable to render, please try loading this page with nbviewer.org.</b></div><div class=\"sk-container\" hidden><div class=\"sk-item\"><div class=\"sk-estimator fitted sk-toggleable\"><input class=\"sk-toggleable__control sk-hidden--visually\" id=\"sk-estimator-id-12\" type=\"checkbox\" checked><label for=\"sk-estimator-id-12\" class=\"sk-toggleable__label fitted sk-toggleable__label-arrow fitted\">&nbsp;&nbsp;RandomForestClassifier<a class=\"sk-estimator-doc-link fitted\" rel=\"noreferrer\" target=\"_blank\" href=\"https://scikit-learn.org/1.4/modules/generated/sklearn.ensemble.RandomForestClassifier.html\">?<span>Documentation for RandomForestClassifier</span></a><span class=\"sk-estimator-doc-link fitted\">i<span>Fitted</span></span></label><div class=\"sk-toggleable__content fitted\"><pre>RandomForestClassifier()</pre></div> </div></div></div></div>"
            ],
            "text/plain": [
              "RandomForestClassifier()"
            ]
          },
          "execution_count": 57,
          "metadata": {},
          "output_type": "execute_result"
        }
      ],
      "source": [
        "modele_rf.fit(x_train, y_train)"
      ]
    },
    {
      "cell_type": "markdown",
      "metadata": {
        "id": "GLvhQj2aSUJE"
      },
      "source": [
        "On peut afficher l’importance des variables de notre modèle de forêt aléatoire :"
      ]
    },
    {
      "cell_type": "code",
      "execution_count": null,
      "metadata": {
        "id": "JyxeNYtISUJF",
        "outputId": "3db3c21d-742a-484c-a618-dd3825bc3a97"
      },
      "outputs": [
        {
          "data": {
            "text/html": [
              "<div>\n",
              "<style scoped>\n",
              "    .dataframe tbody tr th:only-of-type {\n",
              "        vertical-align: middle;\n",
              "    }\n",
              "\n",
              "    .dataframe tbody tr th {\n",
              "        vertical-align: top;\n",
              "    }\n",
              "\n",
              "    .dataframe thead th {\n",
              "        text-align: right;\n",
              "    }\n",
              "</style>\n",
              "<table border=\"1\" class=\"dataframe\">\n",
              "  <thead>\n",
              "    <tr style=\"text-align: right;\">\n",
              "      <th></th>\n",
              "      <th>importance</th>\n",
              "    </tr>\n",
              "  </thead>\n",
              "  <tbody>\n",
              "    <tr>\n",
              "      <th>id</th>\n",
              "      <td>0.321619</td>\n",
              "    </tr>\n",
              "    <tr>\n",
              "      <th>V14</th>\n",
              "      <td>0.139250</td>\n",
              "    </tr>\n",
              "    <tr>\n",
              "      <th>V10</th>\n",
              "      <td>0.135517</td>\n",
              "    </tr>\n",
              "    <tr>\n",
              "      <th>V17</th>\n",
              "      <td>0.082618</td>\n",
              "    </tr>\n",
              "    <tr>\n",
              "      <th>V4</th>\n",
              "      <td>0.078894</td>\n",
              "    </tr>\n",
              "    <tr>\n",
              "      <th>V12</th>\n",
              "      <td>0.076418</td>\n",
              "    </tr>\n",
              "    <tr>\n",
              "      <th>V11</th>\n",
              "      <td>0.037123</td>\n",
              "    </tr>\n",
              "    <tr>\n",
              "      <th>V3</th>\n",
              "      <td>0.032925</td>\n",
              "    </tr>\n",
              "    <tr>\n",
              "      <th>V7</th>\n",
              "      <td>0.024653</td>\n",
              "    </tr>\n",
              "    <tr>\n",
              "      <th>V16</th>\n",
              "      <td>0.015089</td>\n",
              "    </tr>\n",
              "    <tr>\n",
              "      <th>V9</th>\n",
              "      <td>0.009837</td>\n",
              "    </tr>\n",
              "    <tr>\n",
              "      <th>V21</th>\n",
              "      <td>0.007562</td>\n",
              "    </tr>\n",
              "    <tr>\n",
              "      <th>V2</th>\n",
              "      <td>0.006403</td>\n",
              "    </tr>\n",
              "    <tr>\n",
              "      <th>V18</th>\n",
              "      <td>0.004429</td>\n",
              "    </tr>\n",
              "    <tr>\n",
              "      <th>V5</th>\n",
              "      <td>0.004124</td>\n",
              "    </tr>\n",
              "    <tr>\n",
              "      <th>V27</th>\n",
              "      <td>0.003979</td>\n",
              "    </tr>\n",
              "    <tr>\n",
              "      <th>V6</th>\n",
              "      <td>0.003511</td>\n",
              "    </tr>\n",
              "    <tr>\n",
              "      <th>V19</th>\n",
              "      <td>0.002880</td>\n",
              "    </tr>\n",
              "    <tr>\n",
              "      <th>V8</th>\n",
              "      <td>0.002594</td>\n",
              "    </tr>\n",
              "    <tr>\n",
              "      <th>V1</th>\n",
              "      <td>0.002436</td>\n",
              "    </tr>\n",
              "    <tr>\n",
              "      <th>V20</th>\n",
              "      <td>0.001224</td>\n",
              "    </tr>\n",
              "    <tr>\n",
              "      <th>V28</th>\n",
              "      <td>0.001130</td>\n",
              "    </tr>\n",
              "    <tr>\n",
              "      <th>V13</th>\n",
              "      <td>0.001071</td>\n",
              "    </tr>\n",
              "    <tr>\n",
              "      <th>V26</th>\n",
              "      <td>0.000958</td>\n",
              "    </tr>\n",
              "    <tr>\n",
              "      <th>V24</th>\n",
              "      <td>0.000866</td>\n",
              "    </tr>\n",
              "    <tr>\n",
              "      <th>V25</th>\n",
              "      <td>0.000762</td>\n",
              "    </tr>\n",
              "    <tr>\n",
              "      <th>V22</th>\n",
              "      <td>0.000757</td>\n",
              "    </tr>\n",
              "    <tr>\n",
              "      <th>V23</th>\n",
              "      <td>0.000726</td>\n",
              "    </tr>\n",
              "    <tr>\n",
              "      <th>V15</th>\n",
              "      <td>0.000614</td>\n",
              "    </tr>\n",
              "    <tr>\n",
              "      <th>Amount</th>\n",
              "      <td>0.000030</td>\n",
              "    </tr>\n",
              "  </tbody>\n",
              "</table>\n",
              "</div>"
            ],
            "text/plain": [
              "        importance\n",
              "id        0.321619\n",
              "V14       0.139250\n",
              "V10       0.135517\n",
              "V17       0.082618\n",
              "V4        0.078894\n",
              "V12       0.076418\n",
              "V11       0.037123\n",
              "V3        0.032925\n",
              "V7        0.024653\n",
              "V16       0.015089\n",
              "V9        0.009837\n",
              "V21       0.007562\n",
              "V2        0.006403\n",
              "V18       0.004429\n",
              "V5        0.004124\n",
              "V27       0.003979\n",
              "V6        0.003511\n",
              "V19       0.002880\n",
              "V8        0.002594\n",
              "V1        0.002436\n",
              "V20       0.001224\n",
              "V28       0.001130\n",
              "V13       0.001071\n",
              "V26       0.000958\n",
              "V24       0.000866\n",
              "V25       0.000762\n",
              "V22       0.000757\n",
              "V23       0.000726\n",
              "V15       0.000614\n",
              "Amount    0.000030"
            ]
          },
          "execution_count": 58,
          "metadata": {},
          "output_type": "execute_result"
        }
      ],
      "source": [
        "pd.DataFrame(modele_rf.feature_importances_,\n",
        "              index = x_train.columns,\n",
        "              columns = [\"importance\"]).sort_values(\n",
        "     \"importance\",\n",
        "     ascending = False)"
      ]
    },
    {
      "cell_type": "markdown",
      "metadata": {
        "id": "fha4GjZlSUJF"
      },
      "source": [
        "Une fois notre modèle appris, il faut le valider. Pour cela, on va utiliser les données de test et des indicateurs très classiques.\n",
        "\n",
        "On compare donc la valeur prédite par le modèle avec la valeur dans les données. Il s’agit ici de comparer la couleur du vin prédite par le modèle et celle observée dans notre échantillon test.\n",
        "\n",
        "Le premier indicateur utilisé est le pourcentage de bien classé aussi appelé accuracy :"
      ]
    },
    {
      "cell_type": "code",
      "execution_count": null,
      "metadata": {
        "id": "Dwc604wQSUJF",
        "outputId": "004289b4-312c-4144-e3dd-3e4af7fbfd21"
      },
      "outputs": [
        {
          "name": "stdout",
          "output_type": "stream",
          "text": [
            "Le pourcentage de bien classés est de : 99.98241393379197 %\n"
          ]
        }
      ],
      "source": [
        "from sklearn.metrics import accuracy_score, confusion_matrix\n",
        "print(f\"Le pourcentage de bien classés est de : {accuracy_score(y_test, modele_rf.predict(x_test))*100} %\")"
      ]
    },
    {
      "cell_type": "markdown",
      "metadata": {
        "id": "_Z86vC-ZSUJF"
      },
      "source": [
        "https://www.stat4decision.com/fr/foret-aleatoire-avec-python/"
      ]
    },
    {
      "cell_type": "code",
      "execution_count": null,
      "metadata": {
        "id": "VO98Re5WSUJF",
        "outputId": "7d52260b-eae0-40de-8851-27ec1034131a"
      },
      "outputs": [
        {
          "name": "stdout",
          "output_type": "stream",
          "text": [
            "Modèle sauvegardé dans le fichier 'modele_rf.pkl'\n"
          ]
        }
      ],
      "source": [
        "import joblib\n",
        "\n",
        "# Enregistrement du modèle entraîné\n",
        "joblib.dump(modele_rf, \"modele_rf.pkl\")\n",
        "print(\"Modèle sauvegardé dans le fichier 'modele_rf.pkl'\")"
      ]
    },
    {
      "cell_type": "code",
      "execution_count": null,
      "metadata": {
        "id": "83_k0KsHSUJG",
        "outputId": "544f5caf-4354-4547-e2b2-75463d444326"
      },
      "outputs": [
        {
          "name": "stdout",
          "output_type": "stream",
          "text": [
            "Modèle chargé avec succès.\n",
            "Le pourcentage de bien classés est de : 99.98241393379197 %\n",
            "Matrice de confusion :\n",
            "[[71015     8]\n",
            " [   17 71118]]\n"
          ]
        }
      ],
      "source": [
        "# Chargement du modèle enregistré\n",
        "modele_rf = joblib.load(\"modele_rf.pkl\")\n",
        "print(\"Modèle chargé avec succès.\")\n",
        "\n",
        "# Utilisation du modèle pour effectuer des prédictions\n",
        "predictions = modele_rf.predict(x_test)\n",
        "print(f\"Le pourcentage de bien classés est de : {accuracy_score(y_test, predictions)*100} %\")\n",
        "\n",
        "# Afficher la matrice de confusion\n",
        "confusion = confusion_matrix(y_test, predictions)\n",
        "print(\"Matrice de confusion :\")\n",
        "print(confusion)\n"
      ]
    },
    {
      "cell_type": "code",
      "execution_count": null,
      "metadata": {
        "id": "NdSK1rzTSUJG"
      },
      "outputs": [],
      "source": [
        "def save_model(model, filename):\n",
        "    import joblib\n",
        "    joblib.dump(model, filename)\n",
        "    print(f\"Modèle sauvegardé dans le fichier '{filename}'.\")\n",
        "\n",
        "def load_model(filename):\n",
        "    import joblib\n",
        "    model = joblib.load(filename)\n",
        "    print(f\"Modèle chargé depuis le fichier '{filename}'.\")\n",
        "    return model\n"
      ]
    },
    {
      "cell_type": "markdown",
      "metadata": {
        "id": "n3UwGGJ3SUJH"
      },
      "source": [
        "# Sauvegarde\n",
        "save_model(modele_rf, \"modele_rf.pkl\")\n",
        "\n",
        "# Chargement et réutilisation\n",
        "modele_rf = load_model(\"modele_rf.pkl\")\n",
        "predictions = modele_rf.predict(x_test)\n",
        "print(f\"Le pourcentage de bien classés est de : {accuracy_score(y_test, predictions)*100} %\")\n"
      ]
    },
    {
      "cell_type": "code",
      "execution_count": null,
      "metadata": {
        "id": "Fc1o9lzdSUJL",
        "outputId": "4deeda1c-bbca-478b-e03a-00171a23ef22"
      },
      "outputs": [
        {
          "data": {
            "image/png": "[encoded data removed]",
            "text/plain": [
              "<Figure size 2000x1000 with 1 Axes>"
            ]
          },
          "metadata": {},
          "output_type": "display_data"
        }
      ],
      "source": [
        "from sklearn.tree import plot_tree\n",
        "import matplotlib.pyplot as plt\n",
        "\n",
        "# Sélectionner le premier arbre de la Random Forest\n",
        "arbre = modele_rf.estimators_[0]  # Premier arbre de la forêt\n",
        "\n",
        "# Visualisation de l'arbre jusqu'au niveau 3\n",
        "plt.figure(figsize=(20, 10))\n",
        "tree_plot = plot_tree(\n",
        "    arbre,\n",
        "    max_depth=3,  # Limiter la profondeur d'affichage\n",
        "    feature_names=x_train.columns,\n",
        "    class_names=['Non fraude (0)', 'Fraude (1)'],\n",
        "    filled=True,  # Coloration des noeuds\n",
        "    rounded=True,  # Forme arrondie des noeuds\n",
        "    fontsize=10,\n",
        "    proportion=True,  # Afficher les proportions\n",
        ")\n",
        "\n",
        "# Ajuster la couleur de fond des noeuds pour la fraude et non fraude\n",
        "ax = plt.gca()  # Récupérer l'axe du graphique\n",
        "annotations = ax.get_children()\n",
        "\n",
        "# Modifier les couleurs des cases (nœuds) en fonction de la classe (fraude ou non-fraude)\n",
        "for ann in annotations:\n",
        "    if isinstance(ann, plt.Rectangle):  # Chercher les cases (rectangles)\n",
        "        # Récupérer le texte dans la case\n",
        "        if \"Fraude\" in ann.get_label():\n",
        "            ann.set_facecolor(\"red\")  # Fraude en rouge\n",
        "        elif \"Non fraude\" in ann.get_label():\n",
        "            ann.set_facecolor(\"blue\")  # Non fraude en bleu\n",
        "\n",
        "# Mettre le titre et afficher le graphique\n",
        "plt.title(\"Arboresence visualisation (level <= 3)\")\n",
        "plt.show()\n",
        "\n"
      ]
    },
    {
      "cell_type": "markdown",
      "metadata": {
        "id": "QcqlFi-iSUJM"
      },
      "source": [
        "*Réseau de neuronnes*"
      ]
    },
    {
      "cell_type": "code",
      "execution_count": null,
      "metadata": {
        "id": "UZBKCRaaSUJM"
      },
      "outputs": [],
      "source": [
        "# Convert pandas DataFrame and Series to PyTorch tensors\n",
        "X_nn = torch.tensor(X.values, dtype=torch.float32)  # Features as tensor\n",
        "y_nn = torch.tensor(y.values, dtype=torch.float32).reshape(-1, 1)  # Target as tensor"
      ]
    },
    {
      "cell_type": "code",
      "execution_count": null,
      "metadata": {
        "id": "ZpHqk4YPSUJM"
      },
      "outputs": [],
      "source": [
        "# Split the data into training and validation sets\n",
        "X_train, X_test, y_train, y_test = train_test_split(X, y, test_size=0.2, random_state=42)"
      ]
    },
    {
      "cell_type": "code",
      "execution_count": null,
      "metadata": {
        "id": "f6OGZs3pSUJM"
      },
      "outputs": [],
      "source": [
        "# Standardize the features using StandardScaler\n",
        "scaler = StandardScaler()\n",
        "X_train = torch.tensor(scaler.fit_transform(X_train), dtype=torch.float32)\n",
        "X_test = torch.tensor(scaler.transform(X_test), dtype=torch.float32)\n",
        "\n",
        "# Convert y_train and y_test to tensors\n",
        "y_train = torch.tensor(y_train.to_numpy(), dtype=torch.float32).reshape(-1, 1)  # Ensure correct shape for binary classification\n",
        "y_test = torch.tensor(y_test.to_numpy(), dtype=torch.float32).reshape(-1, 1)\n"
      ]
    },
    {
      "cell_type": "code",
      "execution_count": null,
      "metadata": {
        "id": "zRIyfWtuSUJN"
      },
      "outputs": [],
      "source": [
        "# Define the model\n",
        "class SimpleNN(nn.Module):\n",
        "    def __init__(self):\n",
        "        super(SimpleNN, self).__init__()\n",
        "        self.hidden1 = nn.Linear(30, 12)  # Input layer (30 features) to first hidden layer (12 neurons)\n",
        "        self.act1 = nn.ReLU()  # Activation function\n",
        "        self.hidden2 = nn.Linear(12, 8)  # Second hidden layer (8 neurons)\n",
        "        self.act2 = nn.ReLU()  # Activation function\n",
        "        self.output = nn.Linear(8, 1)  # Output layer (1 neuron for binary classification)\n",
        "        self.act_output = nn.Sigmoid()  # Sigmoid activation for binary output\n",
        "\n",
        "    def forward(self, x):\n",
        "        x = self.hidden1(x)\n",
        "        x = self.act1(x)\n",
        "        x = self.hidden2(x)\n",
        "        x = self.act2(x)\n",
        "        x = self.output(x)\n",
        "        x = self.act_output(x)\n",
        "        return x\n"
      ]
    },
    {
      "cell_type": "code",
      "execution_count": null,
      "metadata": {
        "id": "jBsvOZJkSUJN"
      },
      "outputs": [],
      "source": [
        "# Initialize model, loss function, and optimizer\n",
        "model = SimpleNN()\n",
        "loss_fn = nn.BCELoss()  # Binary Cross Entropy Loss\n",
        "optimizer = optim.Adam(model.parameters(), lr=0.001)  # Adam optimizer\n"
      ]
    },
    {
      "cell_type": "code",
      "execution_count": null,
      "metadata": {
        "id": "OTa4Zls4SUJN"
      },
      "outputs": [],
      "source": [
        "# Training the model\n",
        "num_epochs = 100"
      ]
    },
    {
      "cell_type": "code",
      "execution_count": null,
      "metadata": {
        "id": "okWLVmEOSUJN",
        "outputId": "a6c062ca-ab38-4937-ed3e-4269f1488ffe"
      },
      "outputs": [
        {
          "name": "stdout",
          "output_type": "stream",
          "text": [
            "Epoch 10/100, Loss: 0.6882685422897339\n",
            "Epoch 20/100, Loss: 0.6803780794143677\n",
            "Epoch 30/100, Loss: 0.670282781124115\n",
            "Epoch 40/100, Loss: 0.6563697457313538\n",
            "Epoch 50/100, Loss: 0.6361358165740967\n",
            "Epoch 60/100, Loss: 0.6067720055580139\n",
            "Epoch 70/100, Loss: 0.5672364234924316\n",
            "Epoch 80/100, Loss: 0.5197444558143616\n",
            "Epoch 90/100, Loss: 0.46750983595848083\n",
            "Epoch 100/100, Loss: 0.41422683000564575\n"
          ]
        }
      ],
      "source": [
        "for epoch in range(num_epochs):\n",
        "    model.train()\n",
        "\n",
        "    # Forward pass\n",
        "    y_pred = model(X_train)\n",
        "    loss = loss_fn(y_pred, y_train)\n",
        "\n",
        "    # Backward pass and optimization\n",
        "    optimizer.zero_grad()  # Clear gradients\n",
        "    loss.backward()  # Backpropagation\n",
        "    optimizer.step()  # Update weights\n",
        "\n",
        "    if (epoch + 1) % 10 == 0:  # Print every 10 epochs\n",
        "        print(f'Epoch {epoch + 1}/{num_epochs}, Loss: {loss.item()}')\n"
      ]
    },
    {
      "cell_type": "code",
      "execution_count": null,
      "metadata": {
        "id": "NEJeLpy4SUJO"
      },
      "outputs": [],
      "source": [
        "# Evaluation\n",
        "model.eval()\n",
        "with torch.no_grad():\n",
        "    y_test_pred = model(X_test)\n",
        "    y_test_pred = (y_test_pred > 0.5).float()  # Convert probabilities to binary output\n"
      ]
    },
    {
      "cell_type": "code",
      "execution_count": null,
      "metadata": {
        "id": "rhLPeSCdSUJO",
        "outputId": "c355848c-18db-4b4b-85f7-4f08a69b1fc2"
      },
      "outputs": [
        {
          "name": "stdout",
          "output_type": "stream",
          "text": [
            "Accuracy: 0.9131157343087772\n"
          ]
        }
      ],
      "source": [
        "# Calculate accuracy\n",
        "accuracy = accuracy_score(y_test.numpy(), y_test_pred.numpy())\n",
        "print(f'Accuracy: {accuracy}')"
      ]
    },
    {
      "cell_type": "code",
      "execution_count": null,
      "metadata": {
        "id": "jmkUsnKhSUJO",
        "outputId": "572b1e8a-3da5-4ce5-ad2a-cd10f9c7ff43"
      },
      "outputs": [
        {
          "name": "stdout",
          "output_type": "stream",
          "text": [
            "Classification Report:\n",
            "              precision    recall  f1-score   support\n",
            "\n",
            "         0.0       0.85      1.00      0.92     56750\n",
            "         1.0       1.00      0.83      0.91     56976\n",
            "\n",
            "    accuracy                           0.91    113726\n",
            "   macro avg       0.93      0.91      0.91    113726\n",
            "weighted avg       0.93      0.91      0.91    113726\n",
            "\n"
          ]
        }
      ],
      "source": [
        "# Classification report\n",
        "print(\"Classification Report:\")\n",
        "print(classification_report(y_test.numpy(), y_test_pred.numpy()))"
      ]
    },
    {
      "cell_type": "markdown",
      "metadata": {
        "id": "PtfssDyxSUJP"
      },
      "source": [
        "https://machinelearningmastery.com/develop-your-first-neural-network-with-pytorch-step-by-step/"
      ]
    },
    {
      "cell_type": "markdown",
      "metadata": {
        "id": "hjGIOVixSUJP"
      },
      "source": [
        "*Gradient Boost*"
      ]
    },
    {
      "cell_type": "code",
      "execution_count": null,
      "metadata": {
        "id": "QQGfdHJgSUJP",
        "outputId": "bf82fe47-5496-4895-aeb6-cd375e0d3df1"
      },
      "outputs": [
        {
          "name": "stdout",
          "output_type": "stream",
          "text": [
            "Requirement already satisfied: xgboost in c:\\users\\colin\\appdata\\local\\packages\\pythonsoftwarefoundation.python.3.10_qbz5n2kfra8p0\\localcache\\local-packages\\python310\\site-packages (2.1.2)"
          ]
        },
        {
          "name": "stderr",
          "output_type": "stream",
          "text": [
            "\n",
            "[notice] A new release of pip is available: 24.2 -> 24.3.1\n",
            "[notice] To update, run: C:\\Users\\colin\\AppData\\Local\\Microsoft\\WindowsApps\\PythonSoftwareFoundation.Python.3.10_qbz5n2kfra8p0\\python.exe -m pip install --upgrade pip\n"
          ]
        },
        {
          "name": "stdout",
          "output_type": "stream",
          "text": [
            "\n",
            "Requirement already satisfied: numpy in c:\\users\\colin\\appdata\\local\\packages\\pythonsoftwarefoundation.python.3.10_qbz5n2kfra8p0\\localcache\\local-packages\\python310\\site-packages (from xgboost) (1.26.4)\n",
            "Requirement already satisfied: scipy in c:\\users\\colin\\appdata\\local\\packages\\pythonsoftwarefoundation.python.3.10_qbz5n2kfra8p0\\localcache\\local-packages\\python310\\site-packages (from xgboost) (1.12.0)\n"
          ]
        }
      ],
      "source": [
        "!pip install xgboost"
      ]
    },
    {
      "cell_type": "code",
      "execution_count": null,
      "metadata": {
        "id": "nwVjehZ0SUJP"
      },
      "outputs": [],
      "source": [
        "# multiclass classification\n",
        "import pandas\n",
        "import xgboost\n",
        "from sklearn import model_selection\n",
        "from sklearn.metrics import accuracy_score\n",
        "from sklearn.preprocessing import LabelEncoder"
      ]
    },
    {
      "cell_type": "code",
      "execution_count": null,
      "metadata": {
        "id": "zk6Vd7vzSUJQ"
      },
      "outputs": [],
      "source": [
        "# encode string class values as integers\n",
        "label_encoder = LabelEncoder()\n",
        "label_encoder = label_encoder.fit(y)\n",
        "label_encoded_y = label_encoder.transform(y)\n",
        "seed = 7\n",
        "test_size = 0.33\n",
        "X_train, X_test, y_train, y_test = model_selection.train_test_split(X, label_encoded_y, test_size=test_size, random_state=seed)"
      ]
    },
    {
      "cell_type": "code",
      "execution_count": null,
      "metadata": {
        "id": "IelRdeD7SUJQ",
        "outputId": "c25ec4e2-37cf-4abc-8f71-3091000cdcaa"
      },
      "outputs": [
        {
          "name": "stdout",
          "output_type": "stream",
          "text": [
            "XGBClassifier(base_score=None, booster=None, callbacks=None,\n",
            "              colsample_bylevel=None, colsample_bynode=None,\n",
            "              colsample_bytree=None, device=None, early_stopping_rounds=None,\n",
            "              enable_categorical=False, eval_metric=None, feature_types=None,\n",
            "              gamma=None, grow_policy=None, importance_type=None,\n",
            "              interaction_constraints=None, learning_rate=None, max_bin=None,\n",
            "              max_cat_threshold=None, max_cat_to_onehot=None,\n",
            "              max_delta_step=None, max_depth=None, max_leaves=None,\n",
            "              min_child_weight=None, missing=nan, monotone_constraints=None,\n",
            "              multi_strategy=None, n_estimators=None, n_jobs=None,\n",
            "              num_parallel_tree=None, random_state=None, ...)\n"
          ]
        }
      ],
      "source": [
        "# fit model no training data\n",
        "model = xgboost.XGBClassifier()\n",
        "model.fit(X_train, y_train)\n",
        "print(model)"
      ]
    },
    {
      "cell_type": "code",
      "execution_count": null,
      "metadata": {
        "id": "m7ty3IyLSUJQ",
        "outputId": "672501d7-3a33-466f-daff-f8659afba6c6"
      },
      "outputs": [
        {
          "name": "stdout",
          "output_type": "stream",
          "text": [
            "Accuracy:  99.98081514324693\n"
          ]
        }
      ],
      "source": [
        "# make predictions for test data\n",
        "y_pred = model.predict(X_test)\n",
        "predictions = [round(value) for value in y_pred]\n",
        "# evaluate predictions\n",
        "accuracy = accuracy_score(y_test, predictions)\n",
        "print(\"Accuracy: \", accuracy * 100.0)"
      ]
    },
    {
      "cell_type": "markdown",
      "metadata": {
        "id": "nHNOBqWQSUJQ"
      },
      "source": [
        "https://machinelearningmastery.com/data-preparation-gradient-boosting-xgboost-python/"
      ]
    },
    {
      "cell_type": "code",
      "execution_count": null,
      "metadata": {
        "id": "JoIimM2SSUJR"
      },
      "outputs": [],
      "source": []
    }
  ],
  "metadata": {
    "kernelspec": {
      "display_name": "Python 3",
      "language": "python",
      "name": "python3"
    },
    "language_info": {
      "codemirror_mode": {
        "name": "ipython",
        "version": 3
      },
      "file_extension": ".py",
      "mimetype": "text/x-python",
      "name": "python",
      "nbconvert_exporter": "python",
      "pygments_lexer": "ipython3",
      "version": "3.10.11"
    },
    "colab": {
      "provenance": []
    }
  },
  "nbformat": 4,
  "nbformat_minor": 0
}